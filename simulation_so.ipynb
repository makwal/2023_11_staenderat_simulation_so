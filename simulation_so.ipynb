{
 "cells": [
  {
   "cell_type": "markdown",
   "metadata": {},
   "source": [
    "# Simulation 2. Wahlgang Ständerat Solothurn 2023"
   ]
  },
  {
   "cell_type": "markdown",
   "metadata": {},
   "source": [
    "Eingelegte Wahlzettel 2019: 39,3 Prozent der Stimmberechtigten: https://sostimmt.so.ch/gui/layout/2019/30\n",
    "\n",
    "Wir rechnen mit den fiktiven Wählenden pro Partei. Auf diese Zahl kommt man, wenn man die gültigen Wahlzettel den Parteistärken entsprechend auf die Parteien aufteilt. Zusätzlich betrachten wir die Abstinenten. Diese definieren wir der Einfachheit halber inklusive leerer und ungültiger Wahlzettel. Diese machen im Kanton Solothurn zusammen 1,18 Prozent der Wahlberechtigten aus."
   ]
  },
  {
   "cell_type": "code",
   "execution_count": 1,
   "metadata": {},
   "outputs": [],
   "source": [
    "import requests\n",
    "import pandas as pd\n",
    "import numpy as np\n",
    "from my_wahl_settings import parteien_zuordner"
   ]
  },
  {
   "cell_type": "code",
   "execution_count": 2,
   "metadata": {},
   "outputs": [],
   "source": [
    "df_partei = pd.read_csv(parteien_zuordner)"
   ]
  },
  {
   "cell_type": "markdown",
   "metadata": {},
   "source": [
    "Import Wahlberechtigte"
   ]
  },
  {
   "cell_type": "code",
   "execution_count": 3,
   "metadata": {},
   "outputs": [],
   "source": [
    "url_be = 'https://ogd-static.voteinfo-app.ch/v4/ogd/sd-t-17.02-NRW2023-wahlbeteiligung.json'\n",
    "\n",
    "r_be = requests.get(url_be)\n",
    "\n",
    "r_be = r_be.json()\n",
    "\n",
    "df_berechtigte = pd.DataFrame(r_be['level_kantone'])\n",
    "\n",
    "gueltige_wahlzettel = df_berechtigte[df_berechtigte['kanton_nummer'] == 11]['gueltige_wahlzettel'].values[0]\n",
    "\n",
    "wahlberechtigte = df_berechtigte[df_berechtigte['kanton_nummer'] == 11]['wahlberechtigte'].values[0]"
   ]
  },
  {
   "cell_type": "markdown",
   "metadata": {},
   "source": [
    "Wie gross ist der Anteil leerer und ungültiger Wahlzettel?"
   ]
  },
  {
   "cell_type": "code",
   "execution_count": 4,
   "metadata": {},
   "outputs": [],
   "source": [
    "df_berechtigte['leer_ungültig_pct'] = (df_berechtigte['leere_wahlzettel'] + df_berechtigte['ungueltige_wahlzettel']) / df_berechtigte['wahlberechtigte'] * 100"
   ]
  },
  {
   "cell_type": "markdown",
   "metadata": {},
   "source": [
    "Import Wahldaten"
   ]
  },
  {
   "cell_type": "code",
   "execution_count": 5,
   "metadata": {},
   "outputs": [],
   "source": [
    "url = 'https://ogd-static.voteinfo-app.ch/v4/ogd/sd-t-17.02-NRW2023-parteien.json'\n",
    "\n",
    "r = requests.get(url)\n",
    "\n",
    "r = r.json()\n",
    "\n",
    "df = pd.DataFrame(r['level_kantone'])\n",
    "\n",
    "df = df[df['kanton_nummer'] == 11].copy()\n",
    "\n",
    "df = df_partei[['partei_id', 'partei_kurz']].merge(df, on='partei_id', how='right')\n",
    "\n",
    "df = df[['partei_kurz', 'fiktive_waehlende']].copy()"
   ]
  },
  {
   "cell_type": "markdown",
   "metadata": {},
   "source": [
    "Abstinente dazu fügen (Nichtwähler plus leere plus ungültige)"
   ]
  },
  {
   "cell_type": "code",
   "execution_count": 6,
   "metadata": {},
   "outputs": [],
   "source": [
    "fiktive_abwesende = wahlberechtigte - gueltige_wahlzettel\n",
    "\n",
    "abstinenten_dict = {'partei_kurz': ['Abstinente'], 'fiktive_waehlende': [fiktive_abwesende]}\n",
    "\n",
    "df = pd.concat([df, pd.DataFrame(abstinenten_dict)])"
   ]
  },
  {
   "cell_type": "markdown",
   "metadata": {},
   "source": [
    "Die SD hat keine Wähleranteile, darum schliessen wir sie aus."
   ]
  },
  {
   "cell_type": "code",
   "execution_count": 7,
   "metadata": {},
   "outputs": [],
   "source": [
    "df = df[df['partei_kurz'] != 'SD'].copy()\n",
    "\n",
    "df.set_index('partei_kurz', inplace=True)"
   ]
  },
  {
   "cell_type": "markdown",
   "metadata": {},
   "source": [
    "Kontrolle: Haben wir gleich viele fiktive Wählende wie Wahlberechtigte?"
   ]
  },
  {
   "cell_type": "code",
   "execution_count": 8,
   "metadata": {},
   "outputs": [
    {
     "data": {
      "text/plain": [
       "True"
      ]
     },
     "execution_count": 8,
     "metadata": {},
     "output_type": "execute_result"
    }
   ],
   "source": [
    "wahlberechtigte == df['fiktive_waehlende'].sum()"
   ]
  },
  {
   "cell_type": "markdown",
   "metadata": {},
   "source": [
    "Szenario-Daten hinzufügen. Es handelt sich um Prozentwerte, entlang denen die fiktiven Wählenden pro Partei an die Kandidaten verteilt werden. Es müssen immer 100 Prozent sein."
   ]
  },
  {
   "cell_type": "code",
   "execution_count": 9,
   "metadata": {},
   "outputs": [],
   "source": [
    "df_szenario = pd.read_excel('szenario.xlsx', index_col='Partei')\n",
    "\n",
    "df = df.join(df_szenario)"
   ]
  },
  {
   "cell_type": "code",
   "execution_count": 10,
   "metadata": {},
   "outputs": [
    {
     "data": {
      "text/plain": [
       "True"
      ]
     },
     "execution_count": 10,
     "metadata": {},
     "output_type": "execute_result"
    }
   ],
   "source": [
    "len(df_szenario.sum(axis=1)[df_szenario.sum(axis=1) == 100]) == len(df_szenario)"
   ]
  },
  {
   "cell_type": "markdown",
   "metadata": {},
   "source": [
    "**Funktion zur Berechnung der Wähleranteile**"
   ]
  },
  {
   "cell_type": "markdown",
   "metadata": {},
   "source": [
    "Wir runden die Stimmenzahlen auf den Hunderter, da wir mit groben Annahmen arbeiten und Bis auf den Einer genaue Zahlen darum nicht plausibel wären."
   ]
  },
  {
   "cell_type": "code",
   "execution_count": 11,
   "metadata": {},
   "outputs": [],
   "source": [
    "def ergebnis_rechner(df):\n",
    "        \n",
    "    df_func = df.copy()\n",
    "    \n",
    "    #Wir berechnen die Wähler pro Kandidat/in\n",
    "    df_func['wähler_imark'] = df_func['fiktive_waehlende'] * (df_func['Imark'] / 100)\n",
    "    df_func['wähler_roth'] = df_func['fiktive_waehlende'] * (df_func['Roth'] / 100)\n",
    "    df_func['wähler_enthaltung'] = df_func['fiktive_waehlende'] * (df_func['Enthaltung'] / 100)\n",
    "\n",
    "    df_func = df_func.replace(np.inf, 0)\n",
    "    \n",
    "    first_check = wahlberechtigte == round(df_func['wähler_imark'].sum() + df_func['wähler_roth'].sum() + df_func['wähler_enthaltung'].sum(),4)\n",
    "       \n",
    "    if first_check != True:\n",
    "        raise ValueError('Mit der Wählerzuteilung stimmt etwas nicht.')\n",
    "    \n",
    "    summe_imark_roth = df_func['wähler_imark'].sum() + df_func['wähler_roth'].sum()\n",
    "    \n",
    "    #Wähleranteile\n",
    "    wähleranteil_imark = df_func['wähler_imark'].sum() / summe_imark_roth * 100\n",
    "    wähleranteil_roth = df_func['wähler_roth'].sum() / summe_imark_roth * 100\n",
    "    \n",
    "    wähler_imark = df_func['wähler_imark'].sum()\n",
    "    wähler_roth = df_func['wähler_roth'].sum()\n",
    "    \n",
    "    kandi_check = wähleranteil_imark + wähleranteil_roth\n",
    "    \n",
    "    if kandi_check < 99.9 or kandi_check > 100.1:\n",
    "        raise ValueError('Irgendetwas stimmt mit den Wähleranteilen von imark oder roth nicht.')\n",
    "        \n",
    "    #Enthaltung / Beteiligung\n",
    "    anteil_enthaltung = df_func['wähler_enthaltung'].sum() / wahlberechtigte * 100\n",
    "    \n",
    "    wahlbeteiligung = 100 - anteil_enthaltung\n",
    "    \n",
    "    if wahlbeteiligung > 100 or wahlbeteiligung < 10:\n",
    "        raise ValueError('Irgendetwas stimmt mit der Wahlbeteiligung nicht.')\n",
    "        \n",
    "    result_dict = {\n",
    "        'wähleranteil_imark': [round(wähleranteil_imark, 1)],\n",
    "        'wähleranteil_roth': [round(wähleranteil_roth, 1)],\n",
    "        'wähler_imark': [round(wähler_imark, -2)],\n",
    "        'wähler_roth': [round(wähler_roth, -2)],\n",
    "        'anteil_enthaltung': [round(anteil_enthaltung, 1)],\n",
    "        'wahlbeteiligung': [round(wahlbeteiligung, 1)]\n",
    "    }\n",
    "    \n",
    "    df_results = pd.DataFrame(result_dict)\n",
    "    \n",
    "    return df_results"
   ]
  },
  {
   "cell_type": "markdown",
   "metadata": {},
   "source": [
    "**Berechnungen - Szenario 0**"
   ]
  },
  {
   "cell_type": "code",
   "execution_count": 12,
   "metadata": {
    "scrolled": false
   },
   "outputs": [
    {
     "data": {
      "text/html": [
       "<div>\n",
       "<style scoped>\n",
       "    .dataframe tbody tr th:only-of-type {\n",
       "        vertical-align: middle;\n",
       "    }\n",
       "\n",
       "    .dataframe tbody tr th {\n",
       "        vertical-align: top;\n",
       "    }\n",
       "\n",
       "    .dataframe thead th {\n",
       "        text-align: right;\n",
       "    }\n",
       "</style>\n",
       "<table border=\"1\" class=\"dataframe\">\n",
       "  <thead>\n",
       "    <tr style=\"text-align: right;\">\n",
       "      <th></th>\n",
       "      <th>wähleranteil_imark</th>\n",
       "      <th>wähleranteil_roth</th>\n",
       "      <th>wähler_imark</th>\n",
       "      <th>wähler_roth</th>\n",
       "      <th>anteil_enthaltung</th>\n",
       "      <th>wahlbeteiligung</th>\n",
       "    </tr>\n",
       "  </thead>\n",
       "  <tbody>\n",
       "    <tr>\n",
       "      <th>0</th>\n",
       "      <td>53.2</td>\n",
       "      <td>46.8</td>\n",
       "      <td>37900.0</td>\n",
       "      <td>33400.0</td>\n",
       "      <td>61.1</td>\n",
       "      <td>38.9</td>\n",
       "    </tr>\n",
       "  </tbody>\n",
       "</table>\n",
       "</div>"
      ],
      "text/plain": [
       "   wähleranteil_imark  wähleranteil_roth  wähler_imark  wähler_roth  \\\n",
       "0                53.2               46.8       37900.0      33400.0   \n",
       "\n",
       "   anteil_enthaltung  wahlbeteiligung  \n",
       "0               61.1             38.9  "
      ]
     },
     "execution_count": 12,
     "metadata": {},
     "output_type": "execute_result"
    }
   ],
   "source": [
    "ergebnis_rechner(df)"
   ]
  },
  {
   "cell_type": "markdown",
   "metadata": {},
   "source": [
    "**Berechnungen - Szenario 1**\n",
    "\n",
    "Ausgangsfrage: Was passiert bei einer hohen Wahlbeteiligung?"
   ]
  },
  {
   "cell_type": "code",
   "execution_count": 13,
   "metadata": {},
   "outputs": [],
   "source": [
    "df_szenario1 = df.copy()\n",
    "\n",
    "df_szenario_extra = pd.read_excel('szenario_10.xlsx')\n",
    "\n",
    "df_szenario1 = df_szenario1[['fiktive_waehlende']].join(df_szenario_extra.set_index('Partei'))\n",
    "\n",
    "df_ergebnis_temp1 = ergebnis_rechner(df_szenario1)"
   ]
  },
  {
   "cell_type": "code",
   "execution_count": 14,
   "metadata": {},
   "outputs": [
    {
     "data": {
      "text/html": [
       "<div>\n",
       "<style scoped>\n",
       "    .dataframe tbody tr th:only-of-type {\n",
       "        vertical-align: middle;\n",
       "    }\n",
       "\n",
       "    .dataframe tbody tr th {\n",
       "        vertical-align: top;\n",
       "    }\n",
       "\n",
       "    .dataframe thead th {\n",
       "        text-align: right;\n",
       "    }\n",
       "</style>\n",
       "<table border=\"1\" class=\"dataframe\">\n",
       "  <thead>\n",
       "    <tr style=\"text-align: right;\">\n",
       "      <th></th>\n",
       "      <th>wähleranteil_imark</th>\n",
       "      <th>wähleranteil_roth</th>\n",
       "      <th>wähler_imark</th>\n",
       "      <th>wähler_roth</th>\n",
       "      <th>anteil_enthaltung</th>\n",
       "      <th>wahlbeteiligung</th>\n",
       "    </tr>\n",
       "  </thead>\n",
       "  <tbody>\n",
       "    <tr>\n",
       "      <th>0</th>\n",
       "      <td>53.0</td>\n",
       "      <td>47.0</td>\n",
       "      <td>42700.0</td>\n",
       "      <td>37900.0</td>\n",
       "      <td>56.1</td>\n",
       "      <td>43.9</td>\n",
       "    </tr>\n",
       "  </tbody>\n",
       "</table>\n",
       "</div>"
      ],
      "text/plain": [
       "   wähleranteil_imark  wähleranteil_roth  wähler_imark  wähler_roth  \\\n",
       "0                53.0               47.0       42700.0      37900.0   \n",
       "\n",
       "   anteil_enthaltung  wahlbeteiligung  \n",
       "0               56.1             43.9  "
      ]
     },
     "execution_count": 14,
     "metadata": {},
     "output_type": "execute_result"
    }
   ],
   "source": [
    "df_ergebnis_temp1"
   ]
  },
  {
   "cell_type": "markdown",
   "metadata": {},
   "source": [
    "**Berechnungen - Szenario 2**\n",
    "\n",
    "Ausgangsfrage: Wie fällt das Ergebnis aus, wenn die teilnehmenden Mitte-Wählenden zu 80 Prozent für Roth stimmen?"
   ]
  },
  {
   "cell_type": "code",
   "execution_count": 15,
   "metadata": {},
   "outputs": [
    {
     "data": {
      "text/html": [
       "<div>\n",
       "<style scoped>\n",
       "    .dataframe tbody tr th:only-of-type {\n",
       "        vertical-align: middle;\n",
       "    }\n",
       "\n",
       "    .dataframe tbody tr th {\n",
       "        vertical-align: top;\n",
       "    }\n",
       "\n",
       "    .dataframe thead th {\n",
       "        text-align: right;\n",
       "    }\n",
       "</style>\n",
       "<table border=\"1\" class=\"dataframe\">\n",
       "  <thead>\n",
       "    <tr style=\"text-align: right;\">\n",
       "      <th></th>\n",
       "      <th>wähleranteil_imark</th>\n",
       "      <th>wähleranteil_roth</th>\n",
       "      <th>wähler_imark</th>\n",
       "      <th>wähler_roth</th>\n",
       "      <th>anteil_enthaltung</th>\n",
       "      <th>wahlbeteiligung</th>\n",
       "    </tr>\n",
       "  </thead>\n",
       "  <tbody>\n",
       "    <tr>\n",
       "      <th>0</th>\n",
       "      <td>49.7</td>\n",
       "      <td>50.3</td>\n",
       "      <td>35500.0</td>\n",
       "      <td>35800.0</td>\n",
       "      <td>61.1</td>\n",
       "      <td>38.9</td>\n",
       "    </tr>\n",
       "  </tbody>\n",
       "</table>\n",
       "</div>"
      ],
      "text/plain": [
       "   wähleranteil_imark  wähleranteil_roth  wähler_imark  wähler_roth  \\\n",
       "0                49.7               50.3       35500.0      35800.0   \n",
       "\n",
       "   anteil_enthaltung  wahlbeteiligung  \n",
       "0               61.1             38.9  "
      ]
     },
     "execution_count": 15,
     "metadata": {},
     "output_type": "execute_result"
    }
   ],
   "source": [
    "df_szenario2 = df.copy()\n",
    "\n",
    "df_szenario2.loc['Mitte', 'Roth'] = 56\n",
    "df_szenario2.loc['Mitte', 'Imark'] = 14\n",
    "\n",
    "ergebnis_rechner(df_szenario2)"
   ]
  },
  {
   "cell_type": "markdown",
   "metadata": {},
   "source": [
    "**Berechnungen - Szenario 3**\n",
    "\n",
    "Ausgangsfrage: Bei der entzweiten FDP holt Roth 1/3 der Stimmen."
   ]
  },
  {
   "cell_type": "code",
   "execution_count": 16,
   "metadata": {
    "scrolled": true
   },
   "outputs": [
    {
     "data": {
      "text/html": [
       "<div>\n",
       "<style scoped>\n",
       "    .dataframe tbody tr th:only-of-type {\n",
       "        vertical-align: middle;\n",
       "    }\n",
       "\n",
       "    .dataframe tbody tr th {\n",
       "        vertical-align: top;\n",
       "    }\n",
       "\n",
       "    .dataframe thead th {\n",
       "        text-align: right;\n",
       "    }\n",
       "</style>\n",
       "<table border=\"1\" class=\"dataframe\">\n",
       "  <thead>\n",
       "    <tr style=\"text-align: right;\">\n",
       "      <th></th>\n",
       "      <th>wähleranteil_imark</th>\n",
       "      <th>wähleranteil_roth</th>\n",
       "      <th>wähler_imark</th>\n",
       "      <th>wähler_roth</th>\n",
       "      <th>anteil_enthaltung</th>\n",
       "      <th>wahlbeteiligung</th>\n",
       "    </tr>\n",
       "  </thead>\n",
       "  <tbody>\n",
       "    <tr>\n",
       "      <th>0</th>\n",
       "      <td>50.4</td>\n",
       "      <td>49.6</td>\n",
       "      <td>36000.0</td>\n",
       "      <td>35300.0</td>\n",
       "      <td>61.1</td>\n",
       "      <td>38.9</td>\n",
       "    </tr>\n",
       "  </tbody>\n",
       "</table>\n",
       "</div>"
      ],
      "text/plain": [
       "   wähleranteil_imark  wähleranteil_roth  wähler_imark  wähler_roth  \\\n",
       "0                50.4               49.6       36000.0      35300.0   \n",
       "\n",
       "   anteil_enthaltung  wahlbeteiligung  \n",
       "0               61.1             38.9  "
      ]
     },
     "execution_count": 16,
     "metadata": {},
     "output_type": "execute_result"
    }
   ],
   "source": [
    "df_szenario3 = df.copy()\n",
    "\n",
    "df_szenario3.loc['FDP', 'Imark'] = 47\n",
    "df_szenario3.loc['FDP', 'Roth'] = 23\n",
    "\n",
    "ergebnis_rechner(df_szenario3)"
   ]
  },
  {
   "cell_type": "markdown",
   "metadata": {},
   "source": [
    "**Berechnungen - Szenario 4**\n",
    "\n",
    "Ausgangsfrage: Was passiert, wenn die SVP-Wählerschaft ein bisschen wahlabstinent ist, die FDP und Mitte deutlicher?"
   ]
  },
  {
   "cell_type": "code",
   "execution_count": 17,
   "metadata": {},
   "outputs": [
    {
     "data": {
      "text/html": [
       "<div>\n",
       "<style scoped>\n",
       "    .dataframe tbody tr th:only-of-type {\n",
       "        vertical-align: middle;\n",
       "    }\n",
       "\n",
       "    .dataframe tbody tr th {\n",
       "        vertical-align: top;\n",
       "    }\n",
       "\n",
       "    .dataframe thead th {\n",
       "        text-align: right;\n",
       "    }\n",
       "</style>\n",
       "<table border=\"1\" class=\"dataframe\">\n",
       "  <thead>\n",
       "    <tr style=\"text-align: right;\">\n",
       "      <th></th>\n",
       "      <th>wähleranteil_imark</th>\n",
       "      <th>wähleranteil_roth</th>\n",
       "      <th>wähler_imark</th>\n",
       "      <th>wähler_roth</th>\n",
       "      <th>anteil_enthaltung</th>\n",
       "      <th>wahlbeteiligung</th>\n",
       "    </tr>\n",
       "  </thead>\n",
       "  <tbody>\n",
       "    <tr>\n",
       "      <th>0</th>\n",
       "      <td>50.0</td>\n",
       "      <td>50.0</td>\n",
       "      <td>32900.0</td>\n",
       "      <td>33000.0</td>\n",
       "      <td>64.1</td>\n",
       "      <td>35.9</td>\n",
       "    </tr>\n",
       "  </tbody>\n",
       "</table>\n",
       "</div>"
      ],
      "text/plain": [
       "   wähleranteil_imark  wähleranteil_roth  wähler_imark  wähler_roth  \\\n",
       "0                50.0               50.0       32900.0      33000.0   \n",
       "\n",
       "   anteil_enthaltung  wahlbeteiligung  \n",
       "0               64.1             35.9  "
      ]
     },
     "execution_count": 17,
     "metadata": {},
     "output_type": "execute_result"
    }
   ],
   "source": [
    "df_szenario4 = df.copy()\n",
    "\n",
    "df_szenario_extra4 = pd.read_excel('szenario_rechte_wahlabstinenz.xlsx')\n",
    "\n",
    "df_szenario4 = df_szenario4[['fiktive_waehlende']].join(df_szenario_extra4.set_index('Partei'))\n",
    "\n",
    "ergebnis_rechner(df_szenario4)"
   ]
  }
 ],
 "metadata": {
  "kernelspec": {
   "display_name": "Python 3",
   "language": "python",
   "name": "python3"
  },
  "language_info": {
   "codemirror_mode": {
    "name": "ipython",
    "version": 3
   },
   "file_extension": ".py",
   "mimetype": "text/x-python",
   "name": "python",
   "nbconvert_exporter": "python",
   "pygments_lexer": "ipython3",
   "version": "3.8.3"
  }
 },
 "nbformat": 4,
 "nbformat_minor": 4
}
